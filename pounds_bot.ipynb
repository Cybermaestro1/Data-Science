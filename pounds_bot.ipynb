{
  "nbformat": 4,
  "nbformat_minor": 0,
  "metadata": {
    "colab": {
      "provenance": [],
      "toc_visible": true,
      "authorship_tag": "ABX9TyMnBrgQd0sBdtJefNIt7nNo",
      "include_colab_link": true
    },
    "kernelspec": {
      "name": "python3",
      "display_name": "Python 3"
    },
    "language_info": {
      "name": "python"
    }
  },
  "cells": [
    {
      "cell_type": "markdown",
      "metadata": {
        "id": "view-in-github",
        "colab_type": "text"
      },
      "source": [
        "<a href=\"https://colab.research.google.com/github/Cybermaestro1/Data-Science/blob/main/pounds_bot.ipynb\" target=\"_parent\"><img src=\"https://colab.research.google.com/assets/colab-badge.svg\" alt=\"Open In Colab\"/></a>"
      ]
    },
    {
      "cell_type": "code",
      "execution_count": null,
      "metadata": {
        "id": "-LKxPycEkTI-"
      },
      "outputs": [],
      "source": [
        "pip install discord.py\n"
      ]
    },
    {
      "cell_type": "markdown",
      "source": [
        "## bot.py ##"
      ],
      "metadata": {
        "id": "EXDleqi4otVr"
      }
    },
    {
      "cell_type": "code",
      "source": [
        "import discord\n",
        "from discord.ext import commands\n",
        "import asyncio\n",
        "from google.colab import userdata # Import userdata to access secrets\n",
        "\n",
        "intents = discord.Intents.default()\n",
        "intents.message_content = True\n",
        "bot = commands.Bot(command_prefix='!', intents=intents)\n",
        "\n",
        "# Example crypto wallet address\n",
        "crypto_wallet_address = \"0x387C776B7fB8b59cFBf7B1c0096EBC9b166A8E860xYourWalletAddressHere\"\n",
        "\n",
        "@bot.event\n",
        "async def on_ready():\n",
        "    print(f'Bot is now active as {bot.user}')\n",
        "\n",
        "@bot.command()\n",
        "async def start(ctx):\n",
        "    await ctx.send(f\"Hello {ctx.author.name}, I am your crypto bot! Use !activate to start your account.\")\n",
        "\n",
        "@bot.command()\n",
        "async def activate(ctx):\n",
        "    await ctx.send(f\"{ctx.author.name}, your account is now active. You can deposit by using !deposit or withdraw using !withdraw.\")\n",
        "\n",
        "@bot.command()\n",
        "async def dm(ctx, member: discord.User, *, message):\n",
        "    try:\n",
        "        await member.send(message)\n",
        "        await ctx.send(f\"Sent a DM to {member.name}.\")\n",
        "    except:\n",
        "        await ctx.send(\"Failed to send DM.\")\n",
        "\n",
        "@bot.command()\n",
        "async def deposit(ctx):\n",
        "    await ctx.send(f\"Please send your crypto to this wallet address: {crypto_wallet_address}\")\n",
        "\n",
        "@bot.command()\n",
        "async def withdraw(ctx, amount: float, wallet: str):\n",
        "    await ctx.send(f\"Withdrawal request for {amount} units to wallet: {wallet} received. Please wait for confirmation.\")\n",
        "\n",
        "# Replace 'YOUR_BOT_TOKEN_HERE' with loading from Colab Secrets Manager\n",
        "# In Colab, go to the left panel (🔑), click on \"Secrets\", and add a new secret.\n",
        "# Name it 'DISCORD_BOT_TOKEN' and paste your bot token as the value.\n",
        "try:\n",
        "    bot_token = userdata.get('DISCORD_BOT_TOKEN')\n",
        "    if bot_token:\n",
        "        # Use await bot.start() instead of bot.run() in Colab\n",
        "        await bot.start(bot_token)\n",
        "    else:\n",
        "        print(\"Discord bot token not found in Colab Secrets. Please add it as 'DISCORD_BOT_TOKEN'.\")\n",
        "except Exception as e:\n",
        "    print(f\"An error occurred: {e}\")"
      ],
      "metadata": {
        "colab": {
          "base_uri": "https://localhost:8080/"
        },
        "id": "HQciPGSFosq-",
        "outputId": "d67fee8d-9480-46f4-a88f-746819d17f19"
      },
      "execution_count": null,
      "outputs": [
        {
          "output_type": "stream",
          "name": "stderr",
          "text": [
            "WARNING:discord.client:PyNaCl is not installed, voice will NOT be supported\n"
          ]
        },
        {
          "output_type": "stream",
          "name": "stdout",
          "text": [
            "Bot is now active as Trading bot#5002\n"
          ]
        }
      ]
    },
    {
      "cell_type": "markdown",
      "source": [
        "# adding send dm\n"
      ],
      "metadata": {
        "id": "PpZhRHkcvZ83"
      }
    },
    {
      "cell_type": "code",
      "source": [
        "@bot.command()\n",
        "async def dm(ctx, member: discord.User, *, message):\n",
        "    try:\n",
        "        await member.send(message)\n",
        "        await ctx.send(f\"Sent a DM to {member.name}.\")\n",
        "    except:\n",
        "        await ctx.send(\"Failed to send DM.\")\n"
      ],
      "metadata": {
        "colab": {
          "base_uri": "https://localhost:8080/",
          "height": 245
        },
        "id": "LjPptC8dvk42",
        "outputId": "41b36a50-c314-4205-efb8-73a56e8664fc"
      },
      "execution_count": 1,
      "outputs": [
        {
          "output_type": "error",
          "ename": "NameError",
          "evalue": "name 'bot' is not defined",
          "traceback": [
            "\u001b[0;31m---------------------------------------------------------------------------\u001b[0m",
            "\u001b[0;31mNameError\u001b[0m                                 Traceback (most recent call last)",
            "\u001b[0;32m/tmp/ipython-input-1-1381631316.py\u001b[0m in \u001b[0;36m<cell line: 0>\u001b[0;34m()\u001b[0m\n\u001b[0;32m----> 1\u001b[0;31m \u001b[0;34m@\u001b[0m\u001b[0mbot\u001b[0m\u001b[0;34m.\u001b[0m\u001b[0mcommand\u001b[0m\u001b[0;34m(\u001b[0m\u001b[0;34m)\u001b[0m\u001b[0;34m\u001b[0m\u001b[0;34m\u001b[0m\u001b[0m\n\u001b[0m\u001b[1;32m      2\u001b[0m \u001b[0;32masync\u001b[0m \u001b[0;32mdef\u001b[0m \u001b[0mdm\u001b[0m\u001b[0;34m(\u001b[0m\u001b[0mctx\u001b[0m\u001b[0;34m,\u001b[0m \u001b[0mmember\u001b[0m\u001b[0;34m:\u001b[0m \u001b[0mdiscord\u001b[0m\u001b[0;34m.\u001b[0m\u001b[0mUser\u001b[0m\u001b[0;34m,\u001b[0m \u001b[0;34m*\u001b[0m\u001b[0;34m,\u001b[0m \u001b[0mmessage\u001b[0m\u001b[0;34m)\u001b[0m\u001b[0;34m:\u001b[0m\u001b[0;34m\u001b[0m\u001b[0;34m\u001b[0m\u001b[0m\n\u001b[1;32m      3\u001b[0m     \u001b[0;32mtry\u001b[0m\u001b[0;34m:\u001b[0m\u001b[0;34m\u001b[0m\u001b[0;34m\u001b[0m\u001b[0m\n\u001b[1;32m      4\u001b[0m         \u001b[0;32mawait\u001b[0m \u001b[0mmember\u001b[0m\u001b[0;34m.\u001b[0m\u001b[0msend\u001b[0m\u001b[0;34m(\u001b[0m\u001b[0mmessage\u001b[0m\u001b[0;34m)\u001b[0m\u001b[0;34m\u001b[0m\u001b[0;34m\u001b[0m\u001b[0m\n\u001b[1;32m      5\u001b[0m         \u001b[0;32mawait\u001b[0m \u001b[0mctx\u001b[0m\u001b[0;34m.\u001b[0m\u001b[0msend\u001b[0m\u001b[0;34m(\u001b[0m\u001b[0;34mf\"Sent a DM to {member.name}.\"\u001b[0m\u001b[0;34m)\u001b[0m\u001b[0;34m\u001b[0m\u001b[0;34m\u001b[0m\u001b[0m\n",
            "\u001b[0;31mNameError\u001b[0m: name 'bot' is not defined"
          ]
        }
      ]
    },
    {
      "cell_type": "code",
      "source": [
        "python bot.py\n"
      ],
      "metadata": {
        "id": "4w5HawqBrhN6"
      },
      "execution_count": null,
      "outputs": []
    }
  ]
}